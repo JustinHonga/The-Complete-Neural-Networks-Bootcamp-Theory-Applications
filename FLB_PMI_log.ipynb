{
  "nbformat": 4,
  "nbformat_minor": 0,
  "metadata": {
    "colab": {
      "provenance": [],
      "authorship_tag": "ABX9TyPsbV8OvPpezYFhC0bLU14+",
      "include_colab_link": true
    },
    "kernelspec": {
      "name": "python3",
      "display_name": "Python 3"
    },
    "language_info": {
      "name": "python"
    }
  },
  "cells": [
    {
      "cell_type": "markdown",
      "metadata": {
        "id": "view-in-github",
        "colab_type": "text"
      },
      "source": [
        "<a href=\"https://colab.research.google.com/github/JustinHonga/The-Complete-Neural-Networks-Bootcamp-Theory-Applications/blob/master/FLB_PMI_log.ipynb\" target=\"_parent\"><img src=\"https://colab.research.google.com/assets/colab-badge.svg\" alt=\"Open In Colab\"/></a>"
      ]
    },
    {
      "cell_type": "code",
      "execution_count": 4,
      "metadata": {
        "id": "8yg3xnB5OIf8",
        "colab": {
          "base_uri": "https://localhost:8080/"
        },
        "outputId": "4ef9d016-eb37-474e-e68c-bd687158770d"
      },
      "outputs": [
        {
          "output_type": "stream",
          "name": "stdout",
          "text": [
            "             Date          Time                                       Detail\n",
            "0      2024/10/11  10:00:00.052               ﻿ \\t\\tBuffer Add Image:X:5,Y:0\n",
            "1      2024/10/11  10:00:00.052                           Add_ImageData(5,0)\n",
            "2      2024/10/11  10:00:00.080               Non Processing Area Insp Pass.\n",
            "3      2024/10/11  10:00:00.080              Unit Insp Total Time:321.1404ms\n",
            "4      2024/10/11  10:00:00.083  Pocket7,0 Result(Good) Total Time:0.000997s\n",
            "...           ...           ...                                          ...\n",
            "45704  2024/10/11  10:59:51.209             Report Map Total Time:0.0807841s\n",
            "45705  2024/10/11  10:59:51.209              I/O\\tModuleState Change To Pass\n",
            "45706  2024/10/11  10:59:51.209                   Busy Total Time:18.1225245\n",
            "45707  2024/10/11  10:59:52.746              I/O\\tModuleState Change To Idle\n",
            "45708  2024/10/11  10:59:52.746                Module Status change to READY\n",
            "\n",
            "[45709 rows x 3 columns]\n",
            "      LotID TrayID\n",
            "0      None   None\n",
            "1      None   None\n",
            "2      None   None\n",
            "3      None   None\n",
            "4      None   None\n",
            "...     ...    ...\n",
            "45704  None   None\n",
            "45705  None   None\n",
            "45706  None   None\n",
            "45707  None   None\n",
            "45708  None   None\n",
            "\n",
            "[45709 rows x 2 columns]\n"
          ]
        }
      ],
      "source": [
        "import pandas as pd\n",
        "import re\n",
        "\n",
        "# Define regular expressions for date, time, and expressions to remove\n",
        "date_pattern = re.compile(r'\\b\\d{4}/\\d{2}/\\d{2}\\b')  # Matches dates in the format YYYY/MM/DD\n",
        "time_pattern = re.compile(r'\\b\\d{2}:\\d{2}:\\d{2}\\.\\d{3}\\b')  # Matches times in the format HH:MM:SS.SSS\n",
        "expression_pattern = re.compile(r'\\[\\w*\\]')  # Matches expressions like [] or [Time]\n",
        "\n",
        "# Initialize lists to store the data\n",
        "dates = []\n",
        "times = []\n",
        "details = []\n",
        "\n",
        "# Read the text file\n",
        "with open('/content/sample_data/20241011-10.txt', 'r') as file:\n",
        "    for line in file:\n",
        "        # Remove expressions like [] or [Time]\n",
        "        line = expression_pattern.sub('', line).strip()\n",
        "\n",
        "        date_match = date_pattern.search(line)\n",
        "        time_match = time_pattern.search(line)\n",
        "\n",
        "        date = date_match.group(0) if date_match else None\n",
        "        time = time_match.group(0) if time_match else None\n",
        "\n",
        "        # Remove the date and time from the line to get the detail\n",
        "        detail = line\n",
        "        if date:\n",
        "            detail = detail.replace(date, '').strip()\n",
        "        if time:\n",
        "            detail = detail.replace(time, '').strip()\n",
        "\n",
        "        dates.append(date)\n",
        "        times.append(time)\n",
        "        details.append(detail)\n",
        "\n",
        "# Create a DataFrame\n",
        "df = pd.DataFrame({\n",
        "    'Date': dates,\n",
        "    'Time': times,\n",
        "    'Detail': details\n",
        "})\n",
        "\n",
        "#df['Detail'] = df['Detail'].str.replace('[', '').str.replace(']', '')\n",
        "\n",
        "# Display the DataFrame\n",
        "print(df)\n",
        "# Optionally, save the DataFrame to a CSV file\n",
        "df.to_excel('output.xlsx', index=False)\n",
        "#---------------------------------------------------\n",
        "\n",
        "# Define a pattern to match the specific detail format\n",
        "detail_pattern = re.compile(r'Auto Run LotID: (U\\d{7}) TrayID:U\\d{7}(\\w{1,2})')\n",
        "\n",
        "# Initialize lists to store LotID and TrayID\n",
        "lot_ids = []\n",
        "tray_ids = []\n",
        "\n",
        "# Extract LotID and TrayID from the Detail column\n",
        "for detail in df['Detail']:\n",
        "    match = detail_pattern.search(detail)\n",
        "    if match:\n",
        "        lot_ids.append(match.group(1))\n",
        "        tray_ids.append(match.group(2))\n",
        "    else:\n",
        "        lot_ids.append(None)\n",
        "        tray_ids.append(None)\n",
        "\n",
        "# Create a new DataFrame df_A\n",
        "df_A = pd.DataFrame({\n",
        "    'LotID': lot_ids,\n",
        "    'TrayID': tray_ids\n",
        "})\n",
        "\n",
        "# Display the new DataFrame\n",
        "print(df_A)\n",
        "\n",
        "\n",
        "\n"
      ]
    }
  ]
}